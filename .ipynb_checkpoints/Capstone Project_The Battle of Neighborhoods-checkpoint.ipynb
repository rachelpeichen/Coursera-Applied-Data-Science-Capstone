{
 "cells": [
  {
   "cell_type": "markdown",
   "metadata": {},
   "source": [
    "## Capstone - Battle of Neighborhoods "
   ]
  },
  {
   "cell_type": "markdown",
   "metadata": {},
   "source": [
    "###  😋 Exploring best restaurants in Taipei"
   ]
  },
  {
   "cell_type": "markdown",
   "metadata": {},
   "source": [
    "Rachel Chen @Taipei 2020"
   ]
  },
  {
   "cell_type": "markdown",
   "metadata": {},
   "source": [
    "### 🔸 Introduction"
   ]
  },
  {
   "cell_type": "markdown",
   "metadata": {},
   "source": [
    "__This final project explores the best locations for restaurant in Taipei, Taiwan.__ Taipei, the capital of Taiwan, is known for its diverse culture and many fine restaurants providing vaious cuisines. Since there are too many options for first-time tourists to Taipei, we want to provide best restaurants information to visitors.\n",
    "還要補一些背景描述 數字之類的 = =\n",
    "\n",
    "ref:\" Food Business News stated that worldwide pasta sales were up for the second year in a row with the United Sates holding the largest market (Donley, 2018). New York is a major metropolitan area with more than 8.4 million (Quick Facts, 2018) people living within city limits. Most of the Italian immigration into the United States occurred during the late 19th and early 20th century with over two million immigrants between 1900 and 1910. Italian families first settled in Little Italy’s neighborhood around Mulberry Street as has continued to thrive ever since. With almost 700,000 Manhattan inhabitants reporting Italian ancestry, the need to find and enjoy Italian cuisine is on the rise. This report explores which neighborhoods and boroughs of New York City have the most as well as the best Italian restaurants. Additionally, I will attempt to answer the questions “Where should I open an Italian Restaurant?” and “Where should I stay If I want great Italian food?”\"\n",
    "\n",
    "\n",
    "_Reference:_\n",
    "[Taipei-Wikipedia](https://en.wikipedia.org/wiki/Taipei)"
   ]
  },
  {
   "cell_type": "markdown",
   "metadata": {},
   "source": [
    "### 🔸 Data\n"
   ]
  },
  {
   "cell_type": "markdown",
   "metadata": {},
   "source": [
    "For this project we need following data:\n",
    "\n",
    "1️⃣ Taipei data that contains all districts and with their latitude and longitude.\n",
    "\n",
    "_Datasource : [Taipei-Wikipedia](https://en.wikipedia.org/wiki/Taipei#Administrative_divisions)_\n",
    "\n",
    "Description: We will scrap Taipei districts table from Wikipedia and get the coordinates of districts using geocoder class of __Geopy__ client.\n",
    "\n",
    "2️⃣ Restaurants in each neighborhoods of Taipei.\n",
    "\n",
    "_Data source: [FourSquare API](https://developer.foursquare.com/)_\n",
    "\n",
    "Description : By using __Foursquare APIs__ via the request library we will get all the venues in each neighborhood. We can filter these venues to get only \"Restaurant\". Therefore, we can get data of all restaurants in Taipei City including their name, address, latitudes, longitude, and ratings.\n"
   ]
  },
  {
   "cell_type": "markdown",
   "metadata": {},
   "source": [
    "### 🔸 Methodology"
   ]
  },
  {
   "cell_type": "markdown",
   "metadata": {},
   "source": [
    "• FourSquare API will be used to locate all restaurants in Taipei. Ratings by users will be counted and added to the dataframe.\n",
    "\n",
    "• Data will be sorted based on ratings.\n",
    "\n",
    "• Finally, the data be will be visualized by using __folium__."
   ]
  },
  {
   "cell_type": "markdown",
   "metadata": {},
   "source": [
    "### 1) First, we import libraries that will be used in this project."
   ]
  },
  {
   "cell_type": "code",
   "execution_count": 372,
   "metadata": {},
   "outputs": [
    {
     "name": "stdout",
     "output_type": "stream",
     "text": [
      "Requirement already satisfied: folium in /Users/peipei/opt/anaconda3/lib/python3.8/site-packages (0.5.0)\n",
      "Requirement already satisfied: branca in /Users/peipei/opt/anaconda3/lib/python3.8/site-packages (from folium) (0.4.1)\n",
      "Requirement already satisfied: jinja2 in /Users/peipei/opt/anaconda3/lib/python3.8/site-packages (from folium) (2.11.1)\n",
      "Requirement already satisfied: requests in /Users/peipei/opt/anaconda3/lib/python3.8/site-packages (from folium) (2.22.0)\n",
      "Requirement already satisfied: six in /Users/peipei/opt/anaconda3/lib/python3.8/site-packages (from folium) (1.14.0)\n",
      "Requirement already satisfied: MarkupSafe>=0.23 in /Users/peipei/opt/anaconda3/lib/python3.8/site-packages (from jinja2->folium) (1.1.1)\n",
      "Requirement already satisfied: certifi>=2017.4.17 in /Users/peipei/opt/anaconda3/lib/python3.8/site-packages (from requests->folium) (2019.11.28)\n",
      "Requirement already satisfied: chardet<3.1.0,>=3.0.2 in /Users/peipei/opt/anaconda3/lib/python3.8/site-packages (from requests->folium) (3.0.4)\n",
      "Requirement already satisfied: urllib3!=1.25.0,!=1.25.1,<1.26,>=1.21.1 in /Users/peipei/opt/anaconda3/lib/python3.8/site-packages (from requests->folium) (1.25.8)\n",
      "Requirement already satisfied: idna<2.9,>=2.5 in /Users/peipei/opt/anaconda3/lib/python3.8/site-packages (from requests->folium) (2.8)\n",
      "Import finished\n"
     ]
    }
   ],
   "source": [
    "import requests, json # To handle requests\n",
    "from pandas.io.json import json_normalize # Tranform JSON file into a pandas dataframe\n",
    "\n",
    "from bs4 import BeautifulSoup # Import this to scrape web pages\n",
    "\n",
    "import pandas as pd # For data analysis\n",
    "import numpy as np\n",
    "\n",
    "!pip install folium\n",
    "import folium # For drawing a map\n",
    "\n",
    "print('Import finished')"
   ]
  },
  {
   "cell_type": "markdown",
   "metadata": {},
   "source": [
    "### 2) Second, we scrap the Wikipedia page to get the table of districts in Taipei and create a data-frame."
   ]
  },
  {
   "cell_type": "code",
   "execution_count": 176,
   "metadata": {},
   "outputs": [
    {
     "data": {
      "text/html": [
       "<div>\n",
       "<style scoped>\n",
       "    .dataframe tbody tr th:only-of-type {\n",
       "        vertical-align: middle;\n",
       "    }\n",
       "\n",
       "    .dataframe tbody tr th {\n",
       "        vertical-align: top;\n",
       "    }\n",
       "\n",
       "    .dataframe thead tr th {\n",
       "        text-align: left;\n",
       "    }\n",
       "</style>\n",
       "<table border=\"1\" class=\"dataframe\">\n",
       "  <thead>\n",
       "    <tr>\n",
       "      <th></th>\n",
       "      <th>Map</th>\n",
       "      <th colspan=\"5\" halign=\"left\">District</th>\n",
       "      <th>Population(Jan. 2016)</th>\n",
       "      <th>Area(km2)</th>\n",
       "      <th>Postalcode</th>\n",
       "    </tr>\n",
       "    <tr>\n",
       "      <th></th>\n",
       "      <th>Map</th>\n",
       "      <th>Name[100]</th>\n",
       "      <th>Chinese[101]</th>\n",
       "      <th>Pinyin</th>\n",
       "      <th>Wade–Giles</th>\n",
       "      <th>Pe̍h-ōe-jī</th>\n",
       "      <th>Population(Jan. 2016)</th>\n",
       "      <th>Area(km2)</th>\n",
       "      <th>Postalcode</th>\n",
       "    </tr>\n",
       "  </thead>\n",
       "  <tbody>\n",
       "    <tr>\n",
       "      <th>0</th>\n",
       "      <td>Beitou Shilin Neihu Zhongshan Song-shan Datong...</td>\n",
       "      <td>Beitou</td>\n",
       "      <td>北投區</td>\n",
       "      <td>Běitóu</td>\n",
       "      <td>Pei-t'ou</td>\n",
       "      <td>Pak-tâu</td>\n",
       "      <td>257922</td>\n",
       "      <td>56.8216</td>\n",
       "      <td>112</td>\n",
       "    </tr>\n",
       "    <tr>\n",
       "      <th>1</th>\n",
       "      <td>Beitou Shilin Neihu Zhongshan Song-shan Datong...</td>\n",
       "      <td>Daan (Da-an, Da'an)</td>\n",
       "      <td>大安區</td>\n",
       "      <td>Dà'ān</td>\n",
       "      <td>Ta-an</td>\n",
       "      <td>Tāi-an</td>\n",
       "      <td>312909</td>\n",
       "      <td>11.3614</td>\n",
       "      <td>106</td>\n",
       "    </tr>\n",
       "    <tr>\n",
       "      <th>2</th>\n",
       "      <td>Beitou Shilin Neihu Zhongshan Song-shan Datong...</td>\n",
       "      <td>Datong</td>\n",
       "      <td>大同區</td>\n",
       "      <td>Dàtóng</td>\n",
       "      <td>Ta-t'ung</td>\n",
       "      <td>Tāi-tông</td>\n",
       "      <td>131029</td>\n",
       "      <td>5.6815</td>\n",
       "      <td>103</td>\n",
       "    </tr>\n",
       "    <tr>\n",
       "      <th>3</th>\n",
       "      <td>Beitou Shilin Neihu Zhongshan Song-shan Datong...</td>\n",
       "      <td>Nangang (Nankang)</td>\n",
       "      <td>南港區</td>\n",
       "      <td>Nángǎng</td>\n",
       "      <td>Nan-kang</td>\n",
       "      <td>Lâm-káng</td>\n",
       "      <td>122296</td>\n",
       "      <td>21.8424</td>\n",
       "      <td>115</td>\n",
       "    </tr>\n",
       "    <tr>\n",
       "      <th>4</th>\n",
       "      <td>Beitou Shilin Neihu Zhongshan Song-shan Datong...</td>\n",
       "      <td>Neihu</td>\n",
       "      <td>內湖區</td>\n",
       "      <td>Nèihú</td>\n",
       "      <td>Nei-hu</td>\n",
       "      <td>Lāi-ô͘</td>\n",
       "      <td>287726</td>\n",
       "      <td>31.5787</td>\n",
       "      <td>114</td>\n",
       "    </tr>\n",
       "    <tr>\n",
       "      <th>5</th>\n",
       "      <td>Beitou Shilin Neihu Zhongshan Song-shan Datong...</td>\n",
       "      <td>Shilin</td>\n",
       "      <td>士林區</td>\n",
       "      <td>Shìlín</td>\n",
       "      <td>Shih-lin</td>\n",
       "      <td>Sū-lîm</td>\n",
       "      <td>290682</td>\n",
       "      <td>62.3682</td>\n",
       "      <td>111</td>\n",
       "    </tr>\n",
       "    <tr>\n",
       "      <th>6</th>\n",
       "      <td>Beitou Shilin Neihu Zhongshan Song-shan Datong...</td>\n",
       "      <td>Songshan</td>\n",
       "      <td>松山區</td>\n",
       "      <td>Sōngshān</td>\n",
       "      <td>Sung-shan</td>\n",
       "      <td>Siông-san</td>\n",
       "      <td>209689</td>\n",
       "      <td>9.2878</td>\n",
       "      <td>105</td>\n",
       "    </tr>\n",
       "    <tr>\n",
       "      <th>7</th>\n",
       "      <td>Beitou Shilin Neihu Zhongshan Song-shan Datong...</td>\n",
       "      <td>Wanhua</td>\n",
       "      <td>萬華區</td>\n",
       "      <td>Wànhuá</td>\n",
       "      <td>Wan-hua</td>\n",
       "      <td>Báng-kah</td>\n",
       "      <td>194314</td>\n",
       "      <td>8.8522</td>\n",
       "      <td>108</td>\n",
       "    </tr>\n",
       "    <tr>\n",
       "      <th>8</th>\n",
       "      <td>Beitou Shilin Neihu Zhongshan Song-shan Datong...</td>\n",
       "      <td>Wenshan</td>\n",
       "      <td>文山區</td>\n",
       "      <td>Wénshān</td>\n",
       "      <td>Wen-shan</td>\n",
       "      <td>Bûn-san</td>\n",
       "      <td>275433</td>\n",
       "      <td>31.5090</td>\n",
       "      <td>116</td>\n",
       "    </tr>\n",
       "    <tr>\n",
       "      <th>9</th>\n",
       "      <td>Beitou Shilin Neihu Zhongshan Song-shan Datong...</td>\n",
       "      <td>Xinyi</td>\n",
       "      <td>信義區</td>\n",
       "      <td>Xìnyì</td>\n",
       "      <td>Hsin-yi</td>\n",
       "      <td>Sìn-gī</td>\n",
       "      <td>229139</td>\n",
       "      <td>11.2077</td>\n",
       "      <td>110</td>\n",
       "    </tr>\n",
       "    <tr>\n",
       "      <th>10</th>\n",
       "      <td>Beitou Shilin Neihu Zhongshan Song-shan Datong...</td>\n",
       "      <td>Zhongshan</td>\n",
       "      <td>中山區</td>\n",
       "      <td>Zhōngshān</td>\n",
       "      <td>Chung-shan</td>\n",
       "      <td>Tiong-san</td>\n",
       "      <td>231286</td>\n",
       "      <td>13.6821</td>\n",
       "      <td>104</td>\n",
       "    </tr>\n",
       "    <tr>\n",
       "      <th>11</th>\n",
       "      <td>Beitou Shilin Neihu Zhongshan Song-shan Datong...</td>\n",
       "      <td>Zhongzheng</td>\n",
       "      <td>中正區</td>\n",
       "      <td>Zhōngzhèng</td>\n",
       "      <td>Chung-cheng</td>\n",
       "      <td>Tiong-chèng</td>\n",
       "      <td>162549</td>\n",
       "      <td>7.6071</td>\n",
       "      <td>100</td>\n",
       "    </tr>\n",
       "  </tbody>\n",
       "</table>\n",
       "</div>"
      ],
      "text/plain": [
       "                                                  Map             District  \\\n",
       "                                                  Map            Name[100]   \n",
       "0   Beitou Shilin Neihu Zhongshan Song-shan Datong...               Beitou   \n",
       "1   Beitou Shilin Neihu Zhongshan Song-shan Datong...  Daan (Da-an, Da'an)   \n",
       "2   Beitou Shilin Neihu Zhongshan Song-shan Datong...               Datong   \n",
       "3   Beitou Shilin Neihu Zhongshan Song-shan Datong...    Nangang (Nankang)   \n",
       "4   Beitou Shilin Neihu Zhongshan Song-shan Datong...                Neihu   \n",
       "5   Beitou Shilin Neihu Zhongshan Song-shan Datong...               Shilin   \n",
       "6   Beitou Shilin Neihu Zhongshan Song-shan Datong...             Songshan   \n",
       "7   Beitou Shilin Neihu Zhongshan Song-shan Datong...               Wanhua   \n",
       "8   Beitou Shilin Neihu Zhongshan Song-shan Datong...              Wenshan   \n",
       "9   Beitou Shilin Neihu Zhongshan Song-shan Datong...                Xinyi   \n",
       "10  Beitou Shilin Neihu Zhongshan Song-shan Datong...            Zhongshan   \n",
       "11  Beitou Shilin Neihu Zhongshan Song-shan Datong...           Zhongzheng   \n",
       "\n",
       "                                                      Population(Jan. 2016)  \\\n",
       "   Chinese[101]      Pinyin   Wade–Giles   Pe̍h-ōe-jī Population(Jan. 2016)   \n",
       "0           北投區      Běitóu     Pei-t'ou      Pak-tâu                257922   \n",
       "1           大安區       Dà'ān        Ta-an       Tāi-an                312909   \n",
       "2           大同區      Dàtóng     Ta-t'ung     Tāi-tông                131029   \n",
       "3           南港區     Nángǎng     Nan-kang     Lâm-káng                122296   \n",
       "4           內湖區       Nèihú       Nei-hu       Lāi-ô͘                287726   \n",
       "5           士林區      Shìlín     Shih-lin       Sū-lîm                290682   \n",
       "6           松山區    Sōngshān    Sung-shan    Siông-san                209689   \n",
       "7           萬華區      Wànhuá      Wan-hua     Báng-kah                194314   \n",
       "8           文山區     Wénshān     Wen-shan      Bûn-san                275433   \n",
       "9           信義區       Xìnyì      Hsin-yi       Sìn-gī                229139   \n",
       "10          中山區   Zhōngshān   Chung-shan    Tiong-san                231286   \n",
       "11          中正區  Zhōngzhèng  Chung-cheng  Tiong-chèng                162549   \n",
       "\n",
       "   Area(km2) Postalcode  \n",
       "   Area(km2) Postalcode  \n",
       "0    56.8216        112  \n",
       "1    11.3614        106  \n",
       "2     5.6815        103  \n",
       "3    21.8424        115  \n",
       "4    31.5787        114  \n",
       "5    62.3682        111  \n",
       "6     9.2878        105  \n",
       "7     8.8522        108  \n",
       "8    31.5090        116  \n",
       "9    11.2077        110  \n",
       "10   13.6821        104  \n",
       "11    7.6071        100  "
      ]
     },
     "execution_count": 176,
     "metadata": {},
     "output_type": "execute_result"
    }
   ],
   "source": [
    "url = 'https://en.wikipedia.org/wiki/Taipei'\n",
    "df = pd.read_html(url, header = None)[9]\n",
    "df"
   ]
  },
  {
   "cell_type": "code",
   "execution_count": 177,
   "metadata": {},
   "outputs": [
    {
     "data": {
      "text/html": [
       "<div>\n",
       "<style scoped>\n",
       "    .dataframe tbody tr th:only-of-type {\n",
       "        vertical-align: middle;\n",
       "    }\n",
       "\n",
       "    .dataframe tbody tr th {\n",
       "        vertical-align: top;\n",
       "    }\n",
       "\n",
       "    .dataframe thead th {\n",
       "        text-align: right;\n",
       "    }\n",
       "</style>\n",
       "<table border=\"1\" class=\"dataframe\">\n",
       "  <thead>\n",
       "    <tr style=\"text-align: right;\">\n",
       "      <th></th>\n",
       "      <th>Map</th>\n",
       "      <th>Name[100]</th>\n",
       "      <th>Chinese[101]</th>\n",
       "      <th>Pinyin</th>\n",
       "      <th>Wade–Giles</th>\n",
       "      <th>Pe̍h-ōe-jī</th>\n",
       "      <th>Population(Jan. 2016)</th>\n",
       "      <th>Area(km2)</th>\n",
       "      <th>Postalcode</th>\n",
       "    </tr>\n",
       "  </thead>\n",
       "  <tbody>\n",
       "    <tr>\n",
       "      <th>0</th>\n",
       "      <td>Beitou Shilin Neihu Zhongshan Song-shan Datong...</td>\n",
       "      <td>Beitou</td>\n",
       "      <td>北投區</td>\n",
       "      <td>Běitóu</td>\n",
       "      <td>Pei-t'ou</td>\n",
       "      <td>Pak-tâu</td>\n",
       "      <td>257922</td>\n",
       "      <td>56.8216</td>\n",
       "      <td>112</td>\n",
       "    </tr>\n",
       "    <tr>\n",
       "      <th>1</th>\n",
       "      <td>Beitou Shilin Neihu Zhongshan Song-shan Datong...</td>\n",
       "      <td>Daan (Da-an, Da'an)</td>\n",
       "      <td>大安區</td>\n",
       "      <td>Dà'ān</td>\n",
       "      <td>Ta-an</td>\n",
       "      <td>Tāi-an</td>\n",
       "      <td>312909</td>\n",
       "      <td>11.3614</td>\n",
       "      <td>106</td>\n",
       "    </tr>\n",
       "    <tr>\n",
       "      <th>2</th>\n",
       "      <td>Beitou Shilin Neihu Zhongshan Song-shan Datong...</td>\n",
       "      <td>Datong</td>\n",
       "      <td>大同區</td>\n",
       "      <td>Dàtóng</td>\n",
       "      <td>Ta-t'ung</td>\n",
       "      <td>Tāi-tông</td>\n",
       "      <td>131029</td>\n",
       "      <td>5.6815</td>\n",
       "      <td>103</td>\n",
       "    </tr>\n",
       "    <tr>\n",
       "      <th>3</th>\n",
       "      <td>Beitou Shilin Neihu Zhongshan Song-shan Datong...</td>\n",
       "      <td>Nangang (Nankang)</td>\n",
       "      <td>南港區</td>\n",
       "      <td>Nángǎng</td>\n",
       "      <td>Nan-kang</td>\n",
       "      <td>Lâm-káng</td>\n",
       "      <td>122296</td>\n",
       "      <td>21.8424</td>\n",
       "      <td>115</td>\n",
       "    </tr>\n",
       "    <tr>\n",
       "      <th>4</th>\n",
       "      <td>Beitou Shilin Neihu Zhongshan Song-shan Datong...</td>\n",
       "      <td>Neihu</td>\n",
       "      <td>內湖區</td>\n",
       "      <td>Nèihú</td>\n",
       "      <td>Nei-hu</td>\n",
       "      <td>Lāi-ô͘</td>\n",
       "      <td>287726</td>\n",
       "      <td>31.5787</td>\n",
       "      <td>114</td>\n",
       "    </tr>\n",
       "    <tr>\n",
       "      <th>5</th>\n",
       "      <td>Beitou Shilin Neihu Zhongshan Song-shan Datong...</td>\n",
       "      <td>Shilin</td>\n",
       "      <td>士林區</td>\n",
       "      <td>Shìlín</td>\n",
       "      <td>Shih-lin</td>\n",
       "      <td>Sū-lîm</td>\n",
       "      <td>290682</td>\n",
       "      <td>62.3682</td>\n",
       "      <td>111</td>\n",
       "    </tr>\n",
       "    <tr>\n",
       "      <th>6</th>\n",
       "      <td>Beitou Shilin Neihu Zhongshan Song-shan Datong...</td>\n",
       "      <td>Songshan</td>\n",
       "      <td>松山區</td>\n",
       "      <td>Sōngshān</td>\n",
       "      <td>Sung-shan</td>\n",
       "      <td>Siông-san</td>\n",
       "      <td>209689</td>\n",
       "      <td>9.2878</td>\n",
       "      <td>105</td>\n",
       "    </tr>\n",
       "    <tr>\n",
       "      <th>7</th>\n",
       "      <td>Beitou Shilin Neihu Zhongshan Song-shan Datong...</td>\n",
       "      <td>Wanhua</td>\n",
       "      <td>萬華區</td>\n",
       "      <td>Wànhuá</td>\n",
       "      <td>Wan-hua</td>\n",
       "      <td>Báng-kah</td>\n",
       "      <td>194314</td>\n",
       "      <td>8.8522</td>\n",
       "      <td>108</td>\n",
       "    </tr>\n",
       "    <tr>\n",
       "      <th>8</th>\n",
       "      <td>Beitou Shilin Neihu Zhongshan Song-shan Datong...</td>\n",
       "      <td>Wenshan</td>\n",
       "      <td>文山區</td>\n",
       "      <td>Wénshān</td>\n",
       "      <td>Wen-shan</td>\n",
       "      <td>Bûn-san</td>\n",
       "      <td>275433</td>\n",
       "      <td>31.5090</td>\n",
       "      <td>116</td>\n",
       "    </tr>\n",
       "    <tr>\n",
       "      <th>9</th>\n",
       "      <td>Beitou Shilin Neihu Zhongshan Song-shan Datong...</td>\n",
       "      <td>Xinyi</td>\n",
       "      <td>信義區</td>\n",
       "      <td>Xìnyì</td>\n",
       "      <td>Hsin-yi</td>\n",
       "      <td>Sìn-gī</td>\n",
       "      <td>229139</td>\n",
       "      <td>11.2077</td>\n",
       "      <td>110</td>\n",
       "    </tr>\n",
       "    <tr>\n",
       "      <th>10</th>\n",
       "      <td>Beitou Shilin Neihu Zhongshan Song-shan Datong...</td>\n",
       "      <td>Zhongshan</td>\n",
       "      <td>中山區</td>\n",
       "      <td>Zhōngshān</td>\n",
       "      <td>Chung-shan</td>\n",
       "      <td>Tiong-san</td>\n",
       "      <td>231286</td>\n",
       "      <td>13.6821</td>\n",
       "      <td>104</td>\n",
       "    </tr>\n",
       "    <tr>\n",
       "      <th>11</th>\n",
       "      <td>Beitou Shilin Neihu Zhongshan Song-shan Datong...</td>\n",
       "      <td>Zhongzheng</td>\n",
       "      <td>中正區</td>\n",
       "      <td>Zhōngzhèng</td>\n",
       "      <td>Chung-cheng</td>\n",
       "      <td>Tiong-chèng</td>\n",
       "      <td>162549</td>\n",
       "      <td>7.6071</td>\n",
       "      <td>100</td>\n",
       "    </tr>\n",
       "  </tbody>\n",
       "</table>\n",
       "</div>"
      ],
      "text/plain": [
       "                                                  Map            Name[100]  \\\n",
       "0   Beitou Shilin Neihu Zhongshan Song-shan Datong...               Beitou   \n",
       "1   Beitou Shilin Neihu Zhongshan Song-shan Datong...  Daan (Da-an, Da'an)   \n",
       "2   Beitou Shilin Neihu Zhongshan Song-shan Datong...               Datong   \n",
       "3   Beitou Shilin Neihu Zhongshan Song-shan Datong...    Nangang (Nankang)   \n",
       "4   Beitou Shilin Neihu Zhongshan Song-shan Datong...                Neihu   \n",
       "5   Beitou Shilin Neihu Zhongshan Song-shan Datong...               Shilin   \n",
       "6   Beitou Shilin Neihu Zhongshan Song-shan Datong...             Songshan   \n",
       "7   Beitou Shilin Neihu Zhongshan Song-shan Datong...               Wanhua   \n",
       "8   Beitou Shilin Neihu Zhongshan Song-shan Datong...              Wenshan   \n",
       "9   Beitou Shilin Neihu Zhongshan Song-shan Datong...                Xinyi   \n",
       "10  Beitou Shilin Neihu Zhongshan Song-shan Datong...            Zhongshan   \n",
       "11  Beitou Shilin Neihu Zhongshan Song-shan Datong...           Zhongzheng   \n",
       "\n",
       "   Chinese[101]      Pinyin   Wade–Giles   Pe̍h-ōe-jī  Population(Jan. 2016)  \\\n",
       "0           北投區      Běitóu     Pei-t'ou      Pak-tâu                 257922   \n",
       "1           大安區       Dà'ān        Ta-an       Tāi-an                 312909   \n",
       "2           大同區      Dàtóng     Ta-t'ung     Tāi-tông                 131029   \n",
       "3           南港區     Nángǎng     Nan-kang     Lâm-káng                 122296   \n",
       "4           內湖區       Nèihú       Nei-hu       Lāi-ô͘                 287726   \n",
       "5           士林區      Shìlín     Shih-lin       Sū-lîm                 290682   \n",
       "6           松山區    Sōngshān    Sung-shan    Siông-san                 209689   \n",
       "7           萬華區      Wànhuá      Wan-hua     Báng-kah                 194314   \n",
       "8           文山區     Wénshān     Wen-shan      Bûn-san                 275433   \n",
       "9           信義區       Xìnyì      Hsin-yi       Sìn-gī                 229139   \n",
       "10          中山區   Zhōngshān   Chung-shan    Tiong-san                 231286   \n",
       "11          中正區  Zhōngzhèng  Chung-cheng  Tiong-chèng                 162549   \n",
       "\n",
       "    Area(km2)  Postalcode  \n",
       "0     56.8216         112  \n",
       "1     11.3614         106  \n",
       "2      5.6815         103  \n",
       "3     21.8424         115  \n",
       "4     31.5787         114  \n",
       "5     62.3682         111  \n",
       "6      9.2878         105  \n",
       "7      8.8522         108  \n",
       "8     31.5090         116  \n",
       "9     11.2077         110  \n",
       "10    13.6821         104  \n",
       "11     7.6071         100  "
      ]
     },
     "execution_count": 177,
     "metadata": {},
     "output_type": "execute_result"
    }
   ],
   "source": [
    "# Remove redundant header column\n",
    "df.columns = df.columns.droplevel(-2)\n",
    "df"
   ]
  },
  {
   "cell_type": "code",
   "execution_count": 178,
   "metadata": {
    "scrolled": true
   },
   "outputs": [
    {
     "data": {
      "text/html": [
       "<div>\n",
       "<style scoped>\n",
       "    .dataframe tbody tr th:only-of-type {\n",
       "        vertical-align: middle;\n",
       "    }\n",
       "\n",
       "    .dataframe tbody tr th {\n",
       "        vertical-align: top;\n",
       "    }\n",
       "\n",
       "    .dataframe thead th {\n",
       "        text-align: right;\n",
       "    }\n",
       "</style>\n",
       "<table border=\"1\" class=\"dataframe\">\n",
       "  <thead>\n",
       "    <tr style=\"text-align: right;\">\n",
       "      <th></th>\n",
       "      <th>EnName</th>\n",
       "      <th>ChName</th>\n",
       "      <th>Population</th>\n",
       "      <th>Area</th>\n",
       "      <th>Postalcode</th>\n",
       "    </tr>\n",
       "  </thead>\n",
       "  <tbody>\n",
       "    <tr>\n",
       "      <th>0</th>\n",
       "      <td>Beitou</td>\n",
       "      <td>北投區</td>\n",
       "      <td>257922</td>\n",
       "      <td>56.8216</td>\n",
       "      <td>112</td>\n",
       "    </tr>\n",
       "    <tr>\n",
       "      <th>1</th>\n",
       "      <td>Daan (Da-an, Da'an)</td>\n",
       "      <td>大安區</td>\n",
       "      <td>312909</td>\n",
       "      <td>11.3614</td>\n",
       "      <td>106</td>\n",
       "    </tr>\n",
       "    <tr>\n",
       "      <th>2</th>\n",
       "      <td>Datong</td>\n",
       "      <td>大同區</td>\n",
       "      <td>131029</td>\n",
       "      <td>5.6815</td>\n",
       "      <td>103</td>\n",
       "    </tr>\n",
       "    <tr>\n",
       "      <th>3</th>\n",
       "      <td>Nangang (Nankang)</td>\n",
       "      <td>南港區</td>\n",
       "      <td>122296</td>\n",
       "      <td>21.8424</td>\n",
       "      <td>115</td>\n",
       "    </tr>\n",
       "    <tr>\n",
       "      <th>4</th>\n",
       "      <td>Neihu</td>\n",
       "      <td>內湖區</td>\n",
       "      <td>287726</td>\n",
       "      <td>31.5787</td>\n",
       "      <td>114</td>\n",
       "    </tr>\n",
       "    <tr>\n",
       "      <th>5</th>\n",
       "      <td>Shilin</td>\n",
       "      <td>士林區</td>\n",
       "      <td>290682</td>\n",
       "      <td>62.3682</td>\n",
       "      <td>111</td>\n",
       "    </tr>\n",
       "    <tr>\n",
       "      <th>6</th>\n",
       "      <td>Songshan</td>\n",
       "      <td>松山區</td>\n",
       "      <td>209689</td>\n",
       "      <td>9.2878</td>\n",
       "      <td>105</td>\n",
       "    </tr>\n",
       "    <tr>\n",
       "      <th>7</th>\n",
       "      <td>Wanhua</td>\n",
       "      <td>萬華區</td>\n",
       "      <td>194314</td>\n",
       "      <td>8.8522</td>\n",
       "      <td>108</td>\n",
       "    </tr>\n",
       "    <tr>\n",
       "      <th>8</th>\n",
       "      <td>Wenshan</td>\n",
       "      <td>文山區</td>\n",
       "      <td>275433</td>\n",
       "      <td>31.5090</td>\n",
       "      <td>116</td>\n",
       "    </tr>\n",
       "    <tr>\n",
       "      <th>9</th>\n",
       "      <td>Xinyi</td>\n",
       "      <td>信義區</td>\n",
       "      <td>229139</td>\n",
       "      <td>11.2077</td>\n",
       "      <td>110</td>\n",
       "    </tr>\n",
       "    <tr>\n",
       "      <th>10</th>\n",
       "      <td>Zhongshan</td>\n",
       "      <td>中山區</td>\n",
       "      <td>231286</td>\n",
       "      <td>13.6821</td>\n",
       "      <td>104</td>\n",
       "    </tr>\n",
       "    <tr>\n",
       "      <th>11</th>\n",
       "      <td>Zhongzheng</td>\n",
       "      <td>中正區</td>\n",
       "      <td>162549</td>\n",
       "      <td>7.6071</td>\n",
       "      <td>100</td>\n",
       "    </tr>\n",
       "  </tbody>\n",
       "</table>\n",
       "</div>"
      ],
      "text/plain": [
       "                 EnName ChName  Population     Area  Postalcode\n",
       "0                Beitou    北投區      257922  56.8216         112\n",
       "1   Daan (Da-an, Da'an)    大安區      312909  11.3614         106\n",
       "2                Datong    大同區      131029   5.6815         103\n",
       "3     Nangang (Nankang)    南港區      122296  21.8424         115\n",
       "4                 Neihu    內湖區      287726  31.5787         114\n",
       "5                Shilin    士林區      290682  62.3682         111\n",
       "6              Songshan    松山區      209689   9.2878         105\n",
       "7                Wanhua    萬華區      194314   8.8522         108\n",
       "8               Wenshan    文山區      275433  31.5090         116\n",
       "9                 Xinyi    信義區      229139  11.2077         110\n",
       "10            Zhongshan    中山區      231286  13.6821         104\n",
       "11           Zhongzheng    中正區      162549   7.6071         100"
      ]
     },
     "execution_count": 178,
     "metadata": {},
     "output_type": "execute_result"
    }
   ],
   "source": [
    "# Drop rows that we don't need\n",
    "df.drop('Map', axis=1, inplace = True)\n",
    "df.drop('Pinyin', axis=1, inplace = True)\n",
    "df.drop('Wade–Giles', axis=1, inplace = True)\n",
    "df.drop('Pe̍h-ōe-jī', axis=1, inplace = True)\n",
    "\n",
    "# Rename header columns\n",
    "df.rename(columns={df.columns[0] : 'EnName',\n",
    "                   df.columns[1] : 'ChName',\n",
    "                   df.columns[2] : 'Population',\n",
    "                   df.columns[3] : 'Area'\n",
    "                  }, inplace = True)\n",
    "df"
   ]
  },
  {
   "cell_type": "code",
   "execution_count": 179,
   "metadata": {},
   "outputs": [
    {
     "data": {
      "text/plain": [
       "(12, 5)"
      ]
     },
     "execution_count": 179,
     "metadata": {},
     "output_type": "execute_result"
    }
   ],
   "source": [
    "# Use the .shape method to print the number of rows of dataframe\n",
    "df.shape"
   ]
  },
  {
   "cell_type": "markdown",
   "metadata": {},
   "source": [
    "### 3) Now that we have our initial data, we continue to add Geospital data to out dataframe."
   ]
  },
  {
   "cell_type": "code",
   "execution_count": 180,
   "metadata": {
    "scrolled": true
   },
   "outputs": [
    {
     "name": "stdout",
     "output_type": "stream",
     "text": [
      "Collecting package metadata (current_repodata.json): done\n",
      "Solving environment: done\n",
      "\n",
      "# All requested packages already installed.\n",
      "\n"
     ]
    }
   ],
   "source": [
    "!conda install -c conda-forge geopy --yes"
   ]
  },
  {
   "cell_type": "code",
   "execution_count": 181,
   "metadata": {},
   "outputs": [
    {
     "data": {
      "text/html": [
       "<div>\n",
       "<style scoped>\n",
       "    .dataframe tbody tr th:only-of-type {\n",
       "        vertical-align: middle;\n",
       "    }\n",
       "\n",
       "    .dataframe tbody tr th {\n",
       "        vertical-align: top;\n",
       "    }\n",
       "\n",
       "    .dataframe thead th {\n",
       "        text-align: right;\n",
       "    }\n",
       "</style>\n",
       "<table border=\"1\" class=\"dataframe\">\n",
       "  <thead>\n",
       "    <tr style=\"text-align: right;\">\n",
       "      <th></th>\n",
       "      <th>EnName</th>\n",
       "      <th>ChName</th>\n",
       "      <th>Population</th>\n",
       "      <th>Area</th>\n",
       "      <th>Postalcode</th>\n",
       "      <th>Latitude</th>\n",
       "      <th>Longitude</th>\n",
       "    </tr>\n",
       "  </thead>\n",
       "  <tbody>\n",
       "    <tr>\n",
       "      <th>0</th>\n",
       "      <td>Beitou</td>\n",
       "      <td>北投區</td>\n",
       "      <td>257922</td>\n",
       "      <td>56.8216</td>\n",
       "      <td>112</td>\n",
       "      <td>25.132419</td>\n",
       "      <td>121.501379</td>\n",
       "    </tr>\n",
       "    <tr>\n",
       "      <th>1</th>\n",
       "      <td>Daan (Da-an, Da'an)</td>\n",
       "      <td>大安區</td>\n",
       "      <td>312909</td>\n",
       "      <td>11.3614</td>\n",
       "      <td>106</td>\n",
       "      <td>25.026515</td>\n",
       "      <td>121.534395</td>\n",
       "    </tr>\n",
       "    <tr>\n",
       "      <th>2</th>\n",
       "      <td>Datong</td>\n",
       "      <td>大同區</td>\n",
       "      <td>131029</td>\n",
       "      <td>5.6815</td>\n",
       "      <td>103</td>\n",
       "      <td>46.107127</td>\n",
       "      <td>124.681939</td>\n",
       "    </tr>\n",
       "    <tr>\n",
       "      <th>3</th>\n",
       "      <td>Nangang (Nankang)</td>\n",
       "      <td>南港區</td>\n",
       "      <td>122296</td>\n",
       "      <td>21.8424</td>\n",
       "      <td>115</td>\n",
       "      <td>25.054578</td>\n",
       "      <td>121.606600</td>\n",
       "    </tr>\n",
       "    <tr>\n",
       "      <th>4</th>\n",
       "      <td>Neihu</td>\n",
       "      <td>內湖區</td>\n",
       "      <td>287726</td>\n",
       "      <td>31.5787</td>\n",
       "      <td>114</td>\n",
       "      <td>25.069664</td>\n",
       "      <td>121.588998</td>\n",
       "    </tr>\n",
       "    <tr>\n",
       "      <th>5</th>\n",
       "      <td>Shilin</td>\n",
       "      <td>士林區</td>\n",
       "      <td>290682</td>\n",
       "      <td>62.3682</td>\n",
       "      <td>111</td>\n",
       "      <td>25.091840</td>\n",
       "      <td>121.524207</td>\n",
       "    </tr>\n",
       "    <tr>\n",
       "      <th>6</th>\n",
       "      <td>Songshan</td>\n",
       "      <td>松山區</td>\n",
       "      <td>209689</td>\n",
       "      <td>9.2878</td>\n",
       "      <td>105</td>\n",
       "      <td>25.049885</td>\n",
       "      <td>121.577272</td>\n",
       "    </tr>\n",
       "    <tr>\n",
       "      <th>7</th>\n",
       "      <td>Wanhua</td>\n",
       "      <td>萬華區</td>\n",
       "      <td>194314</td>\n",
       "      <td>8.8522</td>\n",
       "      <td>108</td>\n",
       "      <td>25.031933</td>\n",
       "      <td>121.499332</td>\n",
       "    </tr>\n",
       "    <tr>\n",
       "      <th>8</th>\n",
       "      <td>Wenshan</td>\n",
       "      <td>文山區</td>\n",
       "      <td>275433</td>\n",
       "      <td>31.5090</td>\n",
       "      <td>116</td>\n",
       "      <td>24.989786</td>\n",
       "      <td>121.570458</td>\n",
       "    </tr>\n",
       "    <tr>\n",
       "      <th>9</th>\n",
       "      <td>Xinyi</td>\n",
       "      <td>信義區</td>\n",
       "      <td>229139</td>\n",
       "      <td>11.2077</td>\n",
       "      <td>110</td>\n",
       "      <td>25.033345</td>\n",
       "      <td>121.566896</td>\n",
       "    </tr>\n",
       "    <tr>\n",
       "      <th>10</th>\n",
       "      <td>Zhongshan</td>\n",
       "      <td>中山區</td>\n",
       "      <td>231286</td>\n",
       "      <td>13.6821</td>\n",
       "      <td>104</td>\n",
       "      <td>25.064361</td>\n",
       "      <td>121.533468</td>\n",
       "    </tr>\n",
       "    <tr>\n",
       "      <th>11</th>\n",
       "      <td>Zhongzheng</td>\n",
       "      <td>中正區</td>\n",
       "      <td>162549</td>\n",
       "      <td>7.6071</td>\n",
       "      <td>100</td>\n",
       "      <td>25.032361</td>\n",
       "      <td>121.518267</td>\n",
       "    </tr>\n",
       "  </tbody>\n",
       "</table>\n",
       "</div>"
      ],
      "text/plain": [
       "                 EnName ChName  Population     Area  Postalcode   Latitude  \\\n",
       "0                Beitou    北投區      257922  56.8216         112  25.132419   \n",
       "1   Daan (Da-an, Da'an)    大安區      312909  11.3614         106  25.026515   \n",
       "2                Datong    大同區      131029   5.6815         103  46.107127   \n",
       "3     Nangang (Nankang)    南港區      122296  21.8424         115  25.054578   \n",
       "4                 Neihu    內湖區      287726  31.5787         114  25.069664   \n",
       "5                Shilin    士林區      290682  62.3682         111  25.091840   \n",
       "6              Songshan    松山區      209689   9.2878         105  25.049885   \n",
       "7                Wanhua    萬華區      194314   8.8522         108  25.031933   \n",
       "8               Wenshan    文山區      275433  31.5090         116  24.989786   \n",
       "9                 Xinyi    信義區      229139  11.2077         110  25.033345   \n",
       "10            Zhongshan    中山區      231286  13.6821         104  25.064361   \n",
       "11           Zhongzheng    中正區      162549   7.6071         100  25.032361   \n",
       "\n",
       "     Longitude  \n",
       "0   121.501379  \n",
       "1   121.534395  \n",
       "2   124.681939  \n",
       "3   121.606600  \n",
       "4   121.588998  \n",
       "5   121.524207  \n",
       "6   121.577272  \n",
       "7   121.499332  \n",
       "8   121.570458  \n",
       "9   121.566896  \n",
       "10  121.533468  \n",
       "11  121.518267  "
      ]
     },
     "execution_count": 181,
     "metadata": {},
     "output_type": "execute_result"
    }
   ],
   "source": [
    "# Module to convert an address into latitude and longitude values\n",
    "from geopy.geocoders import Nominatim \n",
    "geolocator = Nominatim(user_agent = \"Taipei_explorer\")\n",
    "\n",
    "df['Major_Dist_Coord']= df['ChName'].apply(geolocator.geocode).apply(lambda x: (x.latitude, x.longitude))\n",
    "df[['Latitude', 'Longitude']] = df['Major_Dist_Coord'].apply(pd.Series)\n",
    "\n",
    "df.drop(['Major_Dist_Coord'], axis=1, inplace = True)\n",
    "df"
   ]
  },
  {
   "cell_type": "markdown",
   "metadata": {},
   "source": [
    "### 4) Clustering Neighborhoods in Taipei"
   ]
  },
  {
   "cell_type": "markdown",
   "metadata": {},
   "source": [
    "#### Let's get the geographical coordinates of Taipei."
   ]
  },
  {
   "cell_type": "code",
   "execution_count": 183,
   "metadata": {},
   "outputs": [
    {
     "name": "stdout",
     "output_type": "stream",
     "text": [
      "The geograpical coordinates of Taipei are 25.0375198, 121.5636796.\n"
     ]
    }
   ],
   "source": [
    "address = 'Taipei'\n",
    "\n",
    "geolocator = Nominatim(user_agent = \"Taipei_explorer\")\n",
    "location = geolocator.geocode(address)\n",
    "latitude = location.latitude\n",
    "longitude = location.longitude\n",
    "print('The geograpical coordinates of Taipei are {}, {}.'.format(latitude, longitude))"
   ]
  },
  {
   "cell_type": "markdown",
   "metadata": {},
   "source": [
    "#### Next, we can visualize the 11 neighborhoods in Taipei."
   ]
  },
  {
   "cell_type": "code",
   "execution_count": 375,
   "metadata": {
    "scrolled": false
   },
   "outputs": [
    {
     "name": "stdout",
     "output_type": "stream",
     "text": [
      "Please be noted that the map may not show on Github, please refer to README file for map_taipei.\n"
     ]
    },
    {
     "data": {
      "text/html": [
       "<div style=\"width:100%;\"><div style=\"position:relative;width:100%;height:0;padding-bottom:60%;\"><span style=\"color:#565656\">Make this Notebook Trusted to load map: File -> Trust Notebook</span><iframe src=\"about:blank\" style=\"position:absolute;width:100%;height:100%;left:0;top:0;border:none !important;\" data-html=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 onload=\"this.contentDocument.open();this.contentDocument.write(atob(this.getAttribute('data-html')));this.contentDocument.close();\" allowfullscreen webkitallowfullscreen mozallowfullscreen></iframe></div></div>"
      ],
      "text/plain": [
       "<folium.folium.Map at 0x7f97505ee880>"
      ]
     },
     "execution_count": 375,
     "metadata": {},
     "output_type": "execute_result"
    }
   ],
   "source": [
    "# Create a map of Taipei using latitude and longitude values by using folium\n",
    "map_taipei = folium.Map(location=[latitude, longitude], zoom_start=11)\n",
    "\n",
    " # Add markers to map of Taipei\n",
    "for lat, lng, label in zip(df['Latitude'], df['Longitude'], df['EnName']):\n",
    "    label = folium.Popup(label, parse_html = True)\n",
    "    folium.CircleMarker(\n",
    "        [lat, lng],\n",
    "        radius = 10,\n",
    "        popup = label,\n",
    "        color = 'purple',\n",
    "        fill = True,\n",
    "        fill_color = 'yellow',\n",
    "        fill_opacity = 0.8,\n",
    "        parse_html = False).add_to(map_taipei) \n",
    "\n",
    "print('Please be noted that the map may not show on Github, please refer to README file for map_taipei.')\n",
    "map_taipei"
   ]
  },
  {
   "cell_type": "markdown",
   "metadata": {},
   "source": [
    "#### Next, we are going to start utilizing the __Foursquare API__ to explore the neighborhoods and segment them.\n",
    "\n",
    "#### Apply your credential ID to __FourSquare__."
   ]
  },
  {
   "cell_type": "code",
   "execution_count": 286,
   "metadata": {},
   "outputs": [
    {
     "name": "stdout",
     "output_type": "stream",
     "text": [
      "Your credentails:\n",
      "CLIENT_ID: L41E5UIA1WKZ5JNS3QQBYO5NGSEQZ32OGXJOVLORP22FADRZ\n",
      "CLIENT_SECRET:PPSP1AHMM5FMVNCUOVZRPUT0IJL4QN5C3EGXLO0OU4V1YFCO\n"
     ]
    }
   ],
   "source": [
    "# Define FourSquare Credentials and Version>\n",
    "CLIENT_ID = 'L41E5UIA1WKZ5JNS3QQBYO5NGSEQZ32OGXJOVLORP22FADRZ' # Your FourSquare ID\n",
    "CLIENT_SECRET = 'PPSP1AHMM5FMVNCUOVZRPUT0IJL4QN5C3EGXLO0OU4V1YFCO' # Your FourSquare Secret\n",
    "VERSION = '20201024'\n",
    "LIMIT = 100\n",
    "print('Your credentails:')\n",
    "print('CLIENT_ID: ' + CLIENT_ID)\n",
    "print('CLIENT_SECRET:' + CLIENT_SECRET)"
   ]
  },
  {
   "cell_type": "code",
   "execution_count": 287,
   "metadata": {},
   "outputs": [
    {
     "data": {
      "text/plain": [
       "\"Daan (Da-an, Da'an)\""
      ]
     },
     "execution_count": 287,
     "metadata": {},
     "output_type": "execute_result"
    }
   ],
   "source": [
    "df.loc[1, 'EnName']"
   ]
  },
  {
   "cell_type": "markdown",
   "metadata": {},
   "source": [
    "#### Now, let's get the top 100 venues that are in Daan District within a radius of 1000 meters. Daan District is chosen as an example since it's one of the most competitive business area."
   ]
  },
  {
   "cell_type": "code",
   "execution_count": 296,
   "metadata": {},
   "outputs": [
    {
     "name": "stdout",
     "output_type": "stream",
     "text": [
      "Latitude and longitude values of Daan (Da-an, Da'an) are 25.0265152, 121.534395.\n"
     ]
    }
   ],
   "source": [
    "neighborhood_latitude = df.loc[1, 'Latitude'] # neighborhood latitude value\n",
    "neighborhood_longitude = df.loc[1, 'Longitude'] # neighborhood longitude value\n",
    "\n",
    "neighborhood_name = df.loc[1, 'EnName'] # neighborhood name\n",
    "\n",
    "print('Latitude and longitude values of {} are {}, {}.'.format(neighborhood_name, \n",
    "                                                               neighborhood_latitude, \n",
    "                                                               neighborhood_longitude))"
   ]
  },
  {
   "cell_type": "code",
   "execution_count": 359,
   "metadata": {},
   "outputs": [
    {
     "data": {
      "text/plain": [
       "'https://api.foursquare.com/v2/venues/explore?&client_id=L41E5UIA1WKZ5JNS3QQBYO5NGSEQZ32OGXJOVLORP22FADRZ&client_secret=PPSP1AHMM5FMVNCUOVZRPUT0IJL4QN5C3EGXLO0OU4V1YFCO&v=20201024&ll=25.0265152,121.534395&radius=500&limit=100'"
      ]
     },
     "execution_count": 359,
     "metadata": {},
     "output_type": "execute_result"
    }
   ],
   "source": [
    "LIMIT = 100\n",
    "radius = 500\n",
    "\n",
    "url = 'https://api.foursquare.com/v2/venues/explore?&client_id={}&client_secret={}&v={}&ll={},{}&radius={}&limit={}'.format(\n",
    "    CLIENT_ID, \n",
    "    CLIENT_SECRET, \n",
    "    VERSION, \n",
    "    neighborhood_latitude, \n",
    "    neighborhood_longitude, \n",
    "    radius, \n",
    "    LIMIT)\n",
    "url # display URL"
   ]
  },
  {
   "cell_type": "code",
   "execution_count": 360,
   "metadata": {},
   "outputs": [],
   "source": [
    "results = requests.get(url).json()"
   ]
  },
  {
   "cell_type": "markdown",
   "metadata": {},
   "source": [
    "#### We creat a function that extracts the category of the venue."
   ]
  },
  {
   "cell_type": "code",
   "execution_count": 361,
   "metadata": {},
   "outputs": [],
   "source": [
    "def get_category_type(row):\n",
    "    try:\n",
    "        categories_list = row['categories']\n",
    "    except:\n",
    "        categories_list = row['venue.categories']\n",
    "        \n",
    "    if len(categories_list) == 0:\n",
    "        return None\n",
    "    else:\n",
    "        return categories_list[0]['name']"
   ]
  },
  {
   "cell_type": "code",
   "execution_count": 362,
   "metadata": {},
   "outputs": [
    {
     "name": "stderr",
     "output_type": "stream",
     "text": [
      "<ipython-input-362-a747a20969f3>:2: FutureWarning: pandas.io.json.json_normalize is deprecated, use pandas.json_normalize instead\n",
      "  nearby_venues = json_normalize(venues) # flatten JSON\n"
     ]
    },
    {
     "data": {
      "text/html": [
       "<div>\n",
       "<style scoped>\n",
       "    .dataframe tbody tr th:only-of-type {\n",
       "        vertical-align: middle;\n",
       "    }\n",
       "\n",
       "    .dataframe tbody tr th {\n",
       "        vertical-align: top;\n",
       "    }\n",
       "\n",
       "    .dataframe thead th {\n",
       "        text-align: right;\n",
       "    }\n",
       "</style>\n",
       "<table border=\"1\" class=\"dataframe\">\n",
       "  <thead>\n",
       "    <tr style=\"text-align: right;\">\n",
       "      <th></th>\n",
       "      <th>name</th>\n",
       "      <th>categories</th>\n",
       "      <th>lat</th>\n",
       "      <th>lng</th>\n",
       "    </tr>\n",
       "  </thead>\n",
       "  <tbody>\n",
       "    <tr>\n",
       "      <th>0</th>\n",
       "      <td>青田七六</td>\n",
       "      <td>Café</td>\n",
       "      <td>25.028049</td>\n",
       "      <td>121.532596</td>\n",
       "    </tr>\n",
       "    <tr>\n",
       "      <th>1</th>\n",
       "      <td>Wistaria Tea House (紫藤廬)</td>\n",
       "      <td>Tea Room</td>\n",
       "      <td>25.024553</td>\n",
       "      <td>121.534507</td>\n",
       "    </tr>\n",
       "    <tr>\n",
       "      <th>2</th>\n",
       "      <td>貳月咖啡</td>\n",
       "      <td>Café</td>\n",
       "      <td>25.026933</td>\n",
       "      <td>121.532086</td>\n",
       "    </tr>\n",
       "    <tr>\n",
       "      <th>3</th>\n",
       "      <td>Daan Forest Park (大安森林公園)</td>\n",
       "      <td>Park</td>\n",
       "      <td>25.029842</td>\n",
       "      <td>121.535810</td>\n",
       "    </tr>\n",
       "    <tr>\n",
       "      <th>4</th>\n",
       "      <td>Jack &amp; Nana Coffee Store</td>\n",
       "      <td>Coffee Shop</td>\n",
       "      <td>25.026745</td>\n",
       "      <td>121.531656</td>\n",
       "    </tr>\n",
       "  </tbody>\n",
       "</table>\n",
       "</div>"
      ],
      "text/plain": [
       "                        name   categories        lat         lng\n",
       "0                       青田七六         Café  25.028049  121.532596\n",
       "1   Wistaria Tea House (紫藤廬)     Tea Room  25.024553  121.534507\n",
       "2                       貳月咖啡         Café  25.026933  121.532086\n",
       "3  Daan Forest Park (大安森林公園)         Park  25.029842  121.535810\n",
       "4   Jack & Nana Coffee Store  Coffee Shop  25.026745  121.531656"
      ]
     },
     "execution_count": 362,
     "metadata": {},
     "output_type": "execute_result"
    }
   ],
   "source": [
    "venues = results['response']['groups'][0]['items']\n",
    "nearby_venues = json_normalize(venues) # flatten JSON\n",
    "\n",
    "# filter columns\n",
    "filtered_columns = ['venue.name', 'venue.categories', 'venue.location.lat', 'venue.location.lng']\n",
    "nearby_venues =nearby_venues.loc[:, filtered_columns]\n",
    "\n",
    "# filter the category for each row\n",
    "nearby_venues['venue.categories'] = nearby_venues.apply(get_category_type, axis=1)\n",
    "\n",
    "# clean columns\n",
    "nearby_venues.columns = [col.split(\".\")[-1] for col in nearby_venues.columns]\n",
    "\n",
    "nearby_venues.head()"
   ]
  },
  {
   "cell_type": "code",
   "execution_count": 363,
   "metadata": {},
   "outputs": [
    {
     "name": "stdout",
     "output_type": "stream",
     "text": [
      "18 venues were returned by Foursquare.\n"
     ]
    }
   ],
   "source": [
    "print('{} venues were returned by Foursquare.'.format(nearby_venues.shape[0]))"
   ]
  },
  {
   "cell_type": "code",
   "execution_count": 364,
   "metadata": {},
   "outputs": [
    {
     "name": "stdout",
     "output_type": "stream",
     "text": [
      "Found 11 unique categories in Daan District.\n"
     ]
    }
   ],
   "source": [
    "print ('Found {} unique categories in Daan District.'.format(nearby_venues['categories'].value_counts().shape[0]))"
   ]
  },
  {
   "cell_type": "code",
   "execution_count": 365,
   "metadata": {},
   "outputs": [
    {
     "name": "stdout",
     "output_type": "stream",
     "text": [
      "Café                     5\n",
      "Convenience Store        3\n",
      "Park                     2\n",
      "Vietnamese Restaurant    1\n",
      "Bakery                   1\n",
      "Chinese Restaurant       1\n",
      "Dumpling Restaurant      1\n",
      "Food Stand               1\n",
      "Tea Room                 1\n",
      "Coffee Shop              1\n",
      "Deli / Bodega            1\n",
      "Name: categories, dtype: int64\n"
     ]
    }
   ],
   "source": [
    "print (nearby_venues['categories'].value_counts()[0:49])"
   ]
  },
  {
   "cell_type": "markdown",
   "metadata": {},
   "source": [
    "### Explore Neighborhoods in Taipei."
   ]
  },
  {
   "cell_type": "code",
   "execution_count": 344,
   "metadata": {},
   "outputs": [],
   "source": [
    "def getNearbyVenues(names, latitudes, longitudes, radius = 1000):\n",
    "    \n",
    "    venues_list=[]\n",
    "    for name, lat, lng in zip(names, latitudes, longitudes):\n",
    "        print(name)\n",
    "            \n",
    "        # create the API request URL\n",
    "        url = 'https://api.foursquare.com/v2/venues/explore?&client_id={}&client_secret={}&v={}&ll={},{}&radius={}&limit={}'.format(\n",
    "            CLIENT_ID, \n",
    "            CLIENT_SECRET, \n",
    "            VERSION, \n",
    "            lat, \n",
    "            lng, \n",
    "            radius, \n",
    "            LIMIT)\n",
    "            \n",
    "        # make the GET request\n",
    "        results = requests.get(url).json()[\"response\"]['groups'][0]['items']\n",
    "        \n",
    "        # return only relevant information for each nearby venue\n",
    "        venues_list.append([(\n",
    "            name, \n",
    "            lat, \n",
    "            lng, \n",
    "            v['venue']['name'], \n",
    "            v['venue']['location']['lat'], \n",
    "            v['venue']['location']['lng'],  \n",
    "            v['venue']['categories'][0]['name']) for v in results])\n",
    "\n",
    "    nearby_venues = pd.DataFrame([item for venue_list in venues_list for item in venue_list])\n",
    "    nearby_venues.columns = ['Neighborhood', \n",
    "                  'Neighborhood Latitude', \n",
    "                  'Neighborhood Longitude', \n",
    "                  'Venue', \n",
    "                  'Venue Latitude', \n",
    "                  'Venue Longitude', \n",
    "                  'Venue Category']\n",
    "\n",
    "    \n",
    "    return(nearby_venues)"
   ]
  },
  {
   "cell_type": "code",
   "execution_count": 316,
   "metadata": {},
   "outputs": [
    {
     "name": "stdout",
     "output_type": "stream",
     "text": [
      "Beitou\n",
      "Daan (Da-an, Da'an)\n",
      "Datong\n",
      "Nangang (Nankang)\n",
      "Neihu\n",
      "Shilin\n",
      "Songshan\n",
      "Wanhua\n",
      "Wenshan\n",
      "Xinyi\n",
      "Zhongshan\n",
      "Zhongzheng\n"
     ]
    }
   ],
   "source": [
    "Taipei_venues = getNearbyVenues(names=df['EnName'],\n",
    "                                   latitudes=df['Latitude'],\n",
    "                                   longitudes=df['Longitude']\n",
    "                                  )"
   ]
  },
  {
   "cell_type": "code",
   "execution_count": 377,
   "metadata": {},
   "outputs": [
    {
     "name": "stdout",
     "output_type": "stream",
     "text": [
      "Taiwanese Restaurant             16\n",
      "Chinese Restaurant               14\n",
      "Japanese Restaurant              10\n",
      "Seafood Restaurant                7\n",
      "Hotpot Restaurant                 7\n",
      "Fast Food Restaurant              5\n",
      "Dumpling Restaurant               4\n",
      "Vietnamese Restaurant             3\n",
      "Asian Restaurant                  3\n",
      "Ramen Restaurant                  3\n",
      "Sushi Restaurant                  3\n",
      "Italian Restaurant                2\n",
      "Thai Restaurant                   2\n",
      "Indian Restaurant                 1\n",
      "Vegetarian / Vegan Restaurant     1\n",
      "Shabu-Shabu Restaurant            1\n",
      "Japanese Curry Restaurant         1\n",
      "Latin American Restaurant         1\n",
      "Hong Kong Restaurant              1\n",
      "Cantonese Restaurant              1\n",
      "French Restaurant                 1\n",
      "American Restaurant               1\n",
      "Dim Sum Restaurant                1\n",
      "Udon Restaurant                   1\n",
      "Restaurant                        1\n",
      "Korean Restaurant                 1\n",
      "Name: Venue Category, dtype: int64\n"
     ]
    }
   ],
   "source": [
    "# Create a Dataframe out of it to focus on bubble tea shops\n",
    "Taipei_Venues_only_restaurant = Taipei_venues[Taipei_venues['Venue Category'].str.contains('Restaurant')].reset_index(drop=True)\n",
    "Taipei_Venues_only_restaurant.index = np.arange(1, len(Taipei_Venues_only_restaurant)+1)\n",
    "\n",
    "print(Taipei_Venues_only_restaurant['Venue Category'].value_counts())"
   ]
  },
  {
   "cell_type": "markdown",
   "metadata": {},
   "source": [
    "#### Check the size of the resulting dataframe"
   ]
  },
  {
   "cell_type": "code",
   "execution_count": 380,
   "metadata": {},
   "outputs": [
    {
     "name": "stdout",
     "output_type": "stream",
     "text": [
      "Shape of the Dataframe with Venue Category only Restaurant:  (92, 7)\n"
     ]
    },
    {
     "data": {
      "text/html": [
       "<div>\n",
       "<style scoped>\n",
       "    .dataframe tbody tr th:only-of-type {\n",
       "        vertical-align: middle;\n",
       "    }\n",
       "\n",
       "    .dataframe tbody tr th {\n",
       "        vertical-align: top;\n",
       "    }\n",
       "\n",
       "    .dataframe thead th {\n",
       "        text-align: right;\n",
       "    }\n",
       "</style>\n",
       "<table border=\"1\" class=\"dataframe\">\n",
       "  <thead>\n",
       "    <tr style=\"text-align: right;\">\n",
       "      <th></th>\n",
       "      <th>Neighborhood</th>\n",
       "      <th>Neighborhood Latitude</th>\n",
       "      <th>Neighborhood Longitude</th>\n",
       "      <th>Venue</th>\n",
       "      <th>Venue Latitude</th>\n",
       "      <th>Venue Longitude</th>\n",
       "      <th>Venue Category</th>\n",
       "    </tr>\n",
       "  </thead>\n",
       "  <tbody>\n",
       "    <tr>\n",
       "      <th>1</th>\n",
       "      <td>Beitou</td>\n",
       "      <td>25.132419</td>\n",
       "      <td>121.501379</td>\n",
       "      <td>阿馬非 Coffee. Pizza.pasta</td>\n",
       "      <td>25.132340</td>\n",
       "      <td>121.497882</td>\n",
       "      <td>Italian Restaurant</td>\n",
       "    </tr>\n",
       "    <tr>\n",
       "      <th>2</th>\n",
       "      <td>Beitou</td>\n",
       "      <td>25.132419</td>\n",
       "      <td>121.501379</td>\n",
       "      <td>矮仔財魯肉飯</td>\n",
       "      <td>25.132395</td>\n",
       "      <td>121.503278</td>\n",
       "      <td>Taiwanese Restaurant</td>\n",
       "    </tr>\n",
       "    <tr>\n",
       "      <th>3</th>\n",
       "      <td>Beitou</td>\n",
       "      <td>25.132419</td>\n",
       "      <td>121.501379</td>\n",
       "      <td>24小吃店</td>\n",
       "      <td>25.136201</td>\n",
       "      <td>121.503749</td>\n",
       "      <td>Chinese Restaurant</td>\n",
       "    </tr>\n",
       "    <tr>\n",
       "      <th>4</th>\n",
       "      <td>Beitou</td>\n",
       "      <td>25.132419</td>\n",
       "      <td>121.501379</td>\n",
       "      <td>鬍鬚張魯肉飯 北投光明店</td>\n",
       "      <td>25.136030</td>\n",
       "      <td>121.503850</td>\n",
       "      <td>Chinese Restaurant</td>\n",
       "    </tr>\n",
       "    <tr>\n",
       "      <th>5</th>\n",
       "      <td>Daan (Da-an, Da'an)</td>\n",
       "      <td>25.026515</td>\n",
       "      <td>121.534395</td>\n",
       "      <td>莫宰羊羊肉料理專賣（大安台大店）</td>\n",
       "      <td>25.023901</td>\n",
       "      <td>121.534542</td>\n",
       "      <td>Chinese Restaurant</td>\n",
       "    </tr>\n",
       "  </tbody>\n",
       "</table>\n",
       "</div>"
      ],
      "text/plain": [
       "          Neighborhood  Neighborhood Latitude  Neighborhood Longitude  \\\n",
       "1               Beitou              25.132419              121.501379   \n",
       "2               Beitou              25.132419              121.501379   \n",
       "3               Beitou              25.132419              121.501379   \n",
       "4               Beitou              25.132419              121.501379   \n",
       "5  Daan (Da-an, Da'an)              25.026515              121.534395   \n",
       "\n",
       "                     Venue  Venue Latitude  Venue Longitude  \\\n",
       "1  阿馬非 Coffee. Pizza.pasta       25.132340       121.497882   \n",
       "2                   矮仔財魯肉飯       25.132395       121.503278   \n",
       "3                    24小吃店       25.136201       121.503749   \n",
       "4             鬍鬚張魯肉飯 北投光明店       25.136030       121.503850   \n",
       "5         莫宰羊羊肉料理專賣（大安台大店）       25.023901       121.534542   \n",
       "\n",
       "         Venue Category  \n",
       "1    Italian Restaurant  \n",
       "2  Taiwanese Restaurant  \n",
       "3    Chinese Restaurant  \n",
       "4    Chinese Restaurant  \n",
       "5    Chinese Restaurant  "
      ]
     },
     "execution_count": 380,
     "metadata": {},
     "output_type": "execute_result"
    }
   ],
   "source": [
    "print (\"Shape of the Dataframe with Venue Category only Restaurant: \", Taipei_Venues_only_restaurant.shape)\n",
    "Taipei_Venues_only_restaurant.head(5)"
   ]
  },
  {
   "cell_type": "code",
   "execution_count": 378,
   "metadata": {},
   "outputs": [
    {
     "name": "stdout",
     "output_type": "stream",
     "text": [
      "There are 26 uniques categories.\n"
     ]
    }
   ],
   "source": [
    "print('There are {} uniques categories.'.format(len(Taipei_Venues_only_restaurant['Venue Category'].unique())))"
   ]
  },
  {
   "cell_type": "code",
   "execution_count": 382,
   "metadata": {
    "scrolled": true
   },
   "outputs": [
    {
     "data": {
      "text/html": [
       "<div>\n",
       "<style scoped>\n",
       "    .dataframe tbody tr th:only-of-type {\n",
       "        vertical-align: middle;\n",
       "    }\n",
       "\n",
       "    .dataframe tbody tr th {\n",
       "        vertical-align: top;\n",
       "    }\n",
       "\n",
       "    .dataframe thead th {\n",
       "        text-align: right;\n",
       "    }\n",
       "</style>\n",
       "<table border=\"1\" class=\"dataframe\">\n",
       "  <thead>\n",
       "    <tr style=\"text-align: right;\">\n",
       "      <th></th>\n",
       "      <th>Venue Category</th>\n",
       "      <th>Frequency</th>\n",
       "    </tr>\n",
       "  </thead>\n",
       "  <tbody>\n",
       "    <tr>\n",
       "      <th>0</th>\n",
       "      <td>Taiwanese Restaurant</td>\n",
       "      <td>16</td>\n",
       "    </tr>\n",
       "    <tr>\n",
       "      <th>1</th>\n",
       "      <td>Chinese Restaurant</td>\n",
       "      <td>14</td>\n",
       "    </tr>\n",
       "    <tr>\n",
       "      <th>2</th>\n",
       "      <td>Japanese Restaurant</td>\n",
       "      <td>10</td>\n",
       "    </tr>\n",
       "    <tr>\n",
       "      <th>3</th>\n",
       "      <td>Seafood Restaurant</td>\n",
       "      <td>7</td>\n",
       "    </tr>\n",
       "    <tr>\n",
       "      <th>4</th>\n",
       "      <td>Hotpot Restaurant</td>\n",
       "      <td>7</td>\n",
       "    </tr>\n",
       "    <tr>\n",
       "      <th>5</th>\n",
       "      <td>Fast Food Restaurant</td>\n",
       "      <td>5</td>\n",
       "    </tr>\n",
       "    <tr>\n",
       "      <th>6</th>\n",
       "      <td>Dumpling Restaurant</td>\n",
       "      <td>4</td>\n",
       "    </tr>\n",
       "    <tr>\n",
       "      <th>7</th>\n",
       "      <td>Vietnamese Restaurant</td>\n",
       "      <td>3</td>\n",
       "    </tr>\n",
       "    <tr>\n",
       "      <th>8</th>\n",
       "      <td>Asian Restaurant</td>\n",
       "      <td>3</td>\n",
       "    </tr>\n",
       "    <tr>\n",
       "      <th>9</th>\n",
       "      <td>Ramen Restaurant</td>\n",
       "      <td>3</td>\n",
       "    </tr>\n",
       "  </tbody>\n",
       "</table>\n",
       "</div>"
      ],
      "text/plain": [
       "          Venue Category  Frequency\n",
       "0   Taiwanese Restaurant         16\n",
       "1     Chinese Restaurant         14\n",
       "2    Japanese Restaurant         10\n",
       "3     Seafood Restaurant          7\n",
       "4      Hotpot Restaurant          7\n",
       "5   Fast Food Restaurant          5\n",
       "6    Dumpling Restaurant          4\n",
       "7  Vietnamese Restaurant          3\n",
       "8       Asian Restaurant          3\n",
       "9       Ramen Restaurant          3"
      ]
     },
     "execution_count": 382,
     "metadata": {},
     "output_type": "execute_result"
    }
   ],
   "source": [
    "# Create a dataframe of top10 venue categories\n",
    "Taipei_Venues_restaurant_Top10 = Taipei_Venues_only_restaurant['Venue Category'].value_counts()[0:10].to_frame(name='frequency')\n",
    "Taipei_Venues_restaurant_Top10 = Taipei_Venues_restaurant_Top10.reset_index()\n",
    "\n",
    "Taipei_Venues_restaurant_Top10.rename(index=str, columns={\"index\": \"Venue Category\", \"frequency\": \"Frequency\"}, inplace = True)\n",
    "Taipei_Venues_restaurant_Top10"
   ]
  },
  {
   "cell_type": "code",
   "execution_count": 383,
   "metadata": {},
   "outputs": [
    {
     "data": {
      "image/png": "[encoded data removed]",
      "text/plain": [
       "<Figure size 432x288 with 1 Axes>"
      ]
     },
     "metadata": {
      "needs_background": "light"
     },
     "output_type": "display_data"
    },
    {
     "data": {
      "text/plain": [
       "<Figure size 1296x504 with 0 Axes>"
      ]
     },
     "metadata": {},
     "output_type": "display_data"
    }
   ],
   "source": [
    "import seaborn as sns\n",
    "from matplotlib import pyplot as plt\n",
    "\n",
    "s=sns.barplot(x=\"Venue_Category\", y=\"Frequency\", data = Taipei_5_Dist_Venues_Top10)\n",
    "s.set_xticklabels(s.get_xticklabels(), rotation=45, horizontalalignment='right')\n",
    "\n",
    "plt.title('10 Most Frequently Occuring Venues in 11 Major Districts of Taipei', fontsize = 15)\n",
    "plt.xlabel(\"Venue Category\", fontsize = 15)\n",
    "plt.ylabel (\"Frequency\", fontsize = 15)\n",
    "plt.savefig(\"Most_Freq_Venues1.png\", dpi=300)\n",
    "fig = plt.figure(figsize=(18,7))\n",
    "plt.show()"
   ]
  },
  {
   "cell_type": "markdown",
   "metadata": {},
   "source": [
    "#### Analyze Each Neighborhood"
   ]
  },
  {
   "cell_type": "code",
   "execution_count": 389,
   "metadata": {},
   "outputs": [
    {
     "data": {
      "text/plain": [
       "Neighborhood\n",
       "Beitou                  4\n",
       "Daan (Da-an, Da'an)     3\n",
       "Nangang (Nankang)      14\n",
       "Neihu                   1\n",
       "Shilin                 14\n",
       "Songshan                9\n",
       "Wanhua                  7\n",
       "Wenshan                 8\n",
       "Xinyi                  13\n",
       "Zhongshan              11\n",
       "Zhongzheng              8\n",
       "Name: Venue Category, dtype: int64"
      ]
     },
     "execution_count": 389,
     "metadata": {},
     "output_type": "execute_result"
    }
   ],
   "source": [
    "Taipei_Venues_restaurant = Taipei_Venues_only_restaurant.groupby(['Neighborhood'])['Venue Category'].apply(lambda x: x[x.str.contains('Restaurant')].count())\n",
    "Taipei_Venues_restaurant"
   ]
  },
  {
   "cell_type": "markdown",
   "metadata": {},
   "source": [
    "### 🔸 Results"
   ]
  },
  {
   "cell_type": "markdown",
   "metadata": {},
   "source": [
    "### 🔸 Discussion"
   ]
  },
  {
   "cell_type": "markdown",
   "metadata": {},
   "source": [
    "### 🔸 Conclusion"
   ]
  },
  {
   "cell_type": "code",
   "execution_count": null,
   "metadata": {},
   "outputs": [],
   "source": []
  }
 ],
 "metadata": {
  "kernelspec": {
   "display_name": "Python 3",
   "language": "python",
   "name": "python3"
  },
  "language_info": {
   "codemirror_mode": {
    "name": "ipython",
    "version": 3
   },
   "file_extension": ".py",
   "mimetype": "text/x-python",
   "name": "python",
   "nbconvert_exporter": "python",
   "pygments_lexer": "ipython3",
   "version": "3.8.1"
  }
 },
 "nbformat": 4,
 "nbformat_minor": 4
}
